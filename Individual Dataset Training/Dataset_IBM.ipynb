{
 "cells": [
  {
   "cell_type": "markdown",
   "id": "67e64e8c",
   "metadata": {},
   "source": [
    "This is going to be the Jupyter Notebook for the IBM Dataset"
   ]
  },
  {
   "cell_type": "code",
   "execution_count": null,
   "id": "be1269c0",
   "metadata": {},
   "outputs": [],
   "source": [
    "import os\n",
    "import tarfile\n",
    "import urllib.request\n",
    "import pandas as pd"
   ]
  },
  {
   "cell_type": "code",
   "execution_count": null,
   "id": "5a1973ad",
   "metadata": {},
   "outputs": [],
   "source": [
    "load_ibm_data = pd.read_csv(\"C:/Users/alt98/Desktop/Machine Learning Project/Employee_Retention/Dataset - IBM.csv\")"
   ]
  },
  {
   "cell_type": "code",
   "execution_count": null,
   "id": "1c59415b",
   "metadata": {},
   "outputs": [],
   "source": [
    "ibm_data = load_ibm_data.copy()\n",
    "#make sure it works\n",
    "ibm_data.columns"
   ]
  },
  {
   "cell_type": "code",
   "execution_count": null,
   "id": "4712dec1",
   "metadata": {},
   "outputs": [],
   "source": [
    "#change titles to lowercase\n",
    "ibm_data.columns = ibm_data.columns.str.lower()"
   ]
  },
  {
   "cell_type": "code",
   "execution_count": null,
   "id": "ac5556d8",
   "metadata": {},
   "outputs": [],
   "source": [
    "#let's see what kind of data we have here\n",
    "ibm_data.info()\n",
    "# o null values in the dataset, so we can proceed with the analysis"
   ]
  },
  {
   "cell_type": "code",
   "execution_count": null,
   "id": "38f6e5e9",
   "metadata": {},
   "outputs": [],
   "source": [
    "# Get value counts for all object-type columns\n",
    "object_columns = ibm_data.select_dtypes(include='object')  # Select object-type columns\n",
    "value_counts = {col: object_columns[col].value_counts() for col in object_columns.columns}\n",
    "\n",
    "# Print the value counts for each column\n",
    "for col, counts in value_counts.items():\n",
    "    print(f\"Value counts for column '{col}':\")\n",
    "    print(counts)\n",
    "    print()"
   ]
  },
  {
   "cell_type": "code",
   "execution_count": null,
   "id": "7f0d7212",
   "metadata": {},
   "outputs": [],
   "source": [
    "ibm_data.describe()\n"
   ]
  },
  {
   "cell_type": "code",
   "execution_count": null,
   "id": "25a57894",
   "metadata": {},
   "outputs": [],
   "source": [
    "%matplotlib inline\n",
    "import matplotlib.pyplot as plt\n",
    "ibm_data.hist(bins=50, figsize=(20, 15))\n",
    "plt.show()"
   ]
  }
 ],
 "metadata": {
  "kernelspec": {
   "display_name": "base",
   "language": "python",
   "name": "python3"
  },
  "language_info": {
   "codemirror_mode": {
    "name": "ipython",
    "version": 3
   },
   "file_extension": ".py",
   "mimetype": "text/x-python",
   "name": "python",
   "nbconvert_exporter": "python",
   "pygments_lexer": "ipython3",
   "version": "3.12.7"
  }
 },
 "nbformat": 4,
 "nbformat_minor": 5
}
