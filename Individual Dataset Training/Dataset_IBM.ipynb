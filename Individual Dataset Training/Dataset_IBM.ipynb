{
 "cells": [
  {
   "cell_type": "markdown",
   "id": "67e64e8c",
   "metadata": {},
   "source": [
    "This is going to be the Jupyter Notebook for the IBM Dataset"
   ]
  },
  {
   "cell_type": "code",
   "execution_count": 1,
   "id": "be1269c0",
   "metadata": {},
   "outputs": [],
   "source": [
    "import os\n",
    "import tarfile\n",
    "import urllib.request\n",
    "import pandas as pd"
   ]
  },
  {
   "cell_type": "code",
   "execution_count": 5,
   "id": "5a1973ad",
   "metadata": {},
   "outputs": [],
   "source": [
    "load_ibm_data = pd.read_csv(\"C:/Users/alt98/Desktop/Machine Learning Project/Employee_Retention/Dataset - IBM.csv\")"
   ]
  },
  {
   "cell_type": "code",
   "execution_count": 10,
   "id": "1c59415b",
   "metadata": {},
   "outputs": [
    {
     "data": {
      "text/plain": [
       "Index(['Age', 'Attrition', 'BusinessTravel', 'DailyRate', 'Department',\n",
       "       'DistanceFromHome', 'Education', 'EducationField', 'EmployeeCount',\n",
       "       'EmployeeNumber', 'EnvironmentSatisfaction', 'Gender', 'HourlyRate',\n",
       "       'JobInvolvement', 'JobLevel', 'JobRole', 'JobSatisfaction',\n",
       "       'MaritalStatus', 'MonthlyIncome', 'MonthlyRate', 'NumCompaniesWorked',\n",
       "       'Over18', 'OverTime', 'PercentSalaryHike', 'PerformanceRating',\n",
       "       'RelationshipSatisfaction', 'StandardHours', 'StockOptionLevel',\n",
       "       'TotalWorkingYears', 'TrainingTimesLastYear', 'WorkLifeBalance',\n",
       "       'YearsAtCompany', 'YearsInCurrentRole', 'YearsSinceLastPromotion',\n",
       "       'YearsWithCurrManager'],\n",
       "      dtype='object')"
      ]
     },
     "execution_count": 10,
     "metadata": {},
     "output_type": "execute_result"
    }
   ],
   "source": [
    "ibm_data = load_ibm_data.copy()\n",
    "#make sure it works\n",
    "ibm_data.columns"
   ]
  },
  {
   "cell_type": "code",
   "execution_count": 11,
   "id": "4712dec1",
   "metadata": {},
   "outputs": [],
   "source": [
    "#change titles to lowercase\n",
    "ibm_data.columns = ibm_data.columns.str.lower()"
   ]
  },
  {
   "cell_type": "code",
   "execution_count": 14,
   "id": "ac5556d8",
   "metadata": {},
   "outputs": [
    {
     "name": "stdout",
     "output_type": "stream",
     "text": [
      "<class 'pandas.core.frame.DataFrame'>\n",
      "RangeIndex: 1470 entries, 0 to 1469\n",
      "Data columns (total 35 columns):\n",
      " #   Column                    Non-Null Count  Dtype \n",
      "---  ------                    --------------  ----- \n",
      " 0   age                       1470 non-null   int64 \n",
      " 1   attrition                 1470 non-null   object\n",
      " 2   businesstravel            1470 non-null   object\n",
      " 3   dailyrate                 1470 non-null   int64 \n",
      " 4   department                1470 non-null   object\n",
      " 5   distancefromhome          1470 non-null   int64 \n",
      " 6   education                 1470 non-null   int64 \n",
      " 7   educationfield            1470 non-null   object\n",
      " 8   employeecount             1470 non-null   int64 \n",
      " 9   employeenumber            1470 non-null   int64 \n",
      " 10  environmentsatisfaction   1470 non-null   int64 \n",
      " 11  gender                    1470 non-null   object\n",
      " 12  hourlyrate                1470 non-null   int64 \n",
      " 13  jobinvolvement            1470 non-null   int64 \n",
      " 14  joblevel                  1470 non-null   int64 \n",
      " 15  jobrole                   1470 non-null   object\n",
      " 16  jobsatisfaction           1470 non-null   int64 \n",
      " 17  maritalstatus             1470 non-null   object\n",
      " 18  monthlyincome             1470 non-null   int64 \n",
      " 19  monthlyrate               1470 non-null   int64 \n",
      " 20  numcompaniesworked        1470 non-null   int64 \n",
      " 21  over18                    1470 non-null   object\n",
      " 22  overtime                  1470 non-null   object\n",
      " 23  percentsalaryhike         1470 non-null   int64 \n",
      " 24  performancerating         1470 non-null   int64 \n",
      " 25  relationshipsatisfaction  1470 non-null   int64 \n",
      " 26  standardhours             1470 non-null   int64 \n",
      " 27  stockoptionlevel          1470 non-null   int64 \n",
      " 28  totalworkingyears         1470 non-null   int64 \n",
      " 29  trainingtimeslastyear     1470 non-null   int64 \n",
      " 30  worklifebalance           1470 non-null   int64 \n",
      " 31  yearsatcompany            1470 non-null   int64 \n",
      " 32  yearsincurrentrole        1470 non-null   int64 \n",
      " 33  yearssincelastpromotion   1470 non-null   int64 \n",
      " 34  yearswithcurrmanager      1470 non-null   int64 \n",
      "dtypes: int64(26), object(9)\n",
      "memory usage: 402.1+ KB\n"
     ]
    }
   ],
   "source": [
    "#let's see what kind of data we have here\n",
    "ibm_data.info()\n",
    "# o null values in the dataset, so we can proceed with the analysis"
   ]
  },
  {
   "cell_type": "code",
   "execution_count": 15,
   "id": "38f6e5e9",
   "metadata": {},
   "outputs": [
    {
     "name": "stdout",
     "output_type": "stream",
     "text": [
      "Value counts for column 'attrition':\n",
      "attrition\n",
      "No     1233\n",
      "Yes     237\n",
      "Name: count, dtype: int64\n",
      "\n",
      "Value counts for column 'businesstravel':\n",
      "businesstravel\n",
      "Travel_Rarely        1043\n",
      "Travel_Frequently     277\n",
      "Non-Travel            150\n",
      "Name: count, dtype: int64\n",
      "\n",
      "Value counts for column 'department':\n",
      "department\n",
      "Research & Development    961\n",
      "Sales                     446\n",
      "Human Resources            63\n",
      "Name: count, dtype: int64\n",
      "\n",
      "Value counts for column 'educationfield':\n",
      "educationfield\n",
      "Life Sciences       606\n",
      "Medical             464\n",
      "Marketing           159\n",
      "Technical Degree    132\n",
      "Other                82\n",
      "Human Resources      27\n",
      "Name: count, dtype: int64\n",
      "\n",
      "Value counts for column 'gender':\n",
      "gender\n",
      "Male      882\n",
      "Female    588\n",
      "Name: count, dtype: int64\n",
      "\n",
      "Value counts for column 'jobrole':\n",
      "jobrole\n",
      "Sales Executive              326\n",
      "Research Scientist           292\n",
      "Laboratory Technician        259\n",
      "Manufacturing Director       145\n",
      "Healthcare Representative    131\n",
      "Manager                      102\n",
      "Sales Representative          83\n",
      "Research Director             80\n",
      "Human Resources               52\n",
      "Name: count, dtype: int64\n",
      "\n",
      "Value counts for column 'maritalstatus':\n",
      "maritalstatus\n",
      "Married     673\n",
      "Single      470\n",
      "Divorced    327\n",
      "Name: count, dtype: int64\n",
      "\n",
      "Value counts for column 'over18':\n",
      "over18\n",
      "Y    1470\n",
      "Name: count, dtype: int64\n",
      "\n",
      "Value counts for column 'overtime':\n",
      "overtime\n",
      "No     1054\n",
      "Yes     416\n",
      "Name: count, dtype: int64\n",
      "\n"
     ]
    }
   ],
   "source": [
    "# Get value counts for all object-type columns\n",
    "object_columns = ibm_data.select_dtypes(include='object')  # Select object-type columns\n",
    "value_counts = {col: object_columns[col].value_counts() for col in object_columns.columns}\n",
    "\n",
    "# Print the value counts for each column\n",
    "for col, counts in value_counts.items():\n",
    "    print(f\"Value counts for column '{col}':\")\n",
    "    print(counts)\n",
    "    print()"
   ]
  },
  {
   "cell_type": "code",
   "execution_count": 17,
   "id": "7f0d7212",
   "metadata": {},
   "outputs": [],
   "source": [
    "#drop columns that are not needed for the analysis because all rows have the same value. \n",
    "ibm_data.drop(columns=['employeecount', 'standardhours', 'over18'], inplace=True)"
   ]
  }
 ],
 "metadata": {
  "kernelspec": {
   "display_name": "base",
   "language": "python",
   "name": "python3"
  },
  "language_info": {
   "codemirror_mode": {
    "name": "ipython",
    "version": 3
   },
   "file_extension": ".py",
   "mimetype": "text/x-python",
   "name": "python",
   "nbconvert_exporter": "python",
   "pygments_lexer": "ipython3",
   "version": "3.12.7"
  }
 },
 "nbformat": 4,
 "nbformat_minor": 5
}
