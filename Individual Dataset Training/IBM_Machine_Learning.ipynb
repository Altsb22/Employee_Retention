{
 "cells": [
  {
   "cell_type": "code",
   "execution_count": 1,
   "id": "69e23b96",
   "metadata": {},
   "outputs": [],
   "source": [
    "import os\n",
    "import tarfile\n",
    "import urllib.request\n",
    "import pandas as pd"
   ]
  },
  {
   "cell_type": "code",
   "execution_count": 2,
   "id": "1bb8d2fe",
   "metadata": {},
   "outputs": [],
   "source": [
    "load_ibm_data = pd.read_csv(\"C:/Users/alt98/Desktop/Machine Learning Project/Employee_Retention/Dataset - IBM.csv\")"
   ]
  },
  {
   "cell_type": "code",
   "execution_count": 3,
   "id": "b1849f45",
   "metadata": {},
   "outputs": [
    {
     "data": {
      "text/plain": [
       "Index(['Age', 'Attrition', 'BusinessTravel', 'DailyRate', 'Department',\n",
       "       'DistanceFromHome', 'Education', 'EducationField', 'EmployeeNumber',\n",
       "       'EnvironmentSatisfaction', 'Gender', 'HourlyRate', 'JobInvolvement',\n",
       "       'JobLevel', 'JobRole', 'JobSatisfaction', 'MaritalStatus',\n",
       "       'MonthlyIncome', 'MonthlyRate', 'NumCompaniesWorked', 'OverTime',\n",
       "       'PercentSalaryHike', 'PerformanceRating', 'RelationshipSatisfaction',\n",
       "       'StandardHours', 'StockOptionLevel', 'TotalWorkingYears',\n",
       "       'TrainingTimesLastYear', 'WorkLifeBalance', 'YearsAtCompany',\n",
       "       'YearsInCurrentRole', 'YearsSinceLastPromotion',\n",
       "       'YearsWithCurrManager'],\n",
       "      dtype='object')"
      ]
     },
     "execution_count": 3,
     "metadata": {},
     "output_type": "execute_result"
    }
   ],
   "source": [
    "ibm_data = load_ibm_data.copy()\n",
    "#make sure it works\n",
    "ibm_data.columns"
   ]
  },
  {
   "cell_type": "code",
   "execution_count": 4,
   "id": "dbf116c9",
   "metadata": {},
   "outputs": [],
   "source": [
    "ibm_data.columns = ibm_data.columns.str.lower()"
   ]
  },
  {
   "cell_type": "code",
   "execution_count": 5,
   "id": "69f5cdda",
   "metadata": {},
   "outputs": [],
   "source": [
    "ibm_data.drop(columns=['employeenumber', 'standardhours'], inplace=True)"
   ]
  },
  {
   "cell_type": "code",
   "execution_count": 6,
   "id": "a8c14486",
   "metadata": {},
   "outputs": [
    {
     "name": "stdout",
     "output_type": "stream",
     "text": [
      "Object attribute names:\n",
      "Index(['attrition', 'businesstravel', 'department', 'education',\n",
      "       'educationfield', 'environmentsatisfaction', 'gender', 'jobinvolvement',\n",
      "       'joblevel', 'jobrole', 'jobsatisfaction', 'maritalstatus', 'overtime',\n",
      "       'performancerating', 'relationshipsatisfaction', 'stockoptionlevel',\n",
      "       'worklifebalance'],\n",
      "      dtype='object')\n",
      "Num attribute names:\n",
      "Index(['age', 'dailyrate', 'distancefromhome', 'hourlyrate', 'monthlyincome',\n",
      "       'monthlyrate', 'numcompaniesworked', 'percentsalaryhike',\n",
      "       'totalworkingyears', 'trainingtimeslastyear', 'yearsatcompany',\n",
      "       'yearsincurrentrole', 'yearssincelastpromotion',\n",
      "       'yearswithcurrmanager'],\n",
      "      dtype='object')\n"
     ]
    }
   ],
   "source": [
    "#split data into two dataframes, 1 numeric and 1 categorical\n",
    "numeric_columns = ibm_data.select_dtypes(include=['int64']).columns\n",
    "categorical_columns = ibm_data.select_dtypes(include=['object']).columns\n",
    "ibm_data_num = ibm_data[numeric_columns]\n",
    "ibm_data_cat = ibm_data[categorical_columns]\n",
    "\n",
    "print(\"Object attribute names:\")\n",
    "print(ibm_data_cat.columns)\n",
    "\n",
    "print(\"Num attribute names:\")\n",
    "print(ibm_data_num.columns)"
   ]
  },
  {
   "cell_type": "code",
   "execution_count": 7,
   "id": "83ce79c1",
   "metadata": {},
   "outputs": [],
   "source": [
    "#find the median  of the variables using dollar amounts. \n",
    "\n"
   ]
  }
 ],
 "metadata": {
  "kernelspec": {
   "display_name": "base",
   "language": "python",
   "name": "python3"
  },
  "language_info": {
   "codemirror_mode": {
    "name": "ipython",
    "version": 3
   },
   "file_extension": ".py",
   "mimetype": "text/x-python",
   "name": "python",
   "nbconvert_exporter": "python",
   "pygments_lexer": "ipython3",
   "version": "3.12.7"
  }
 },
 "nbformat": 4,
 "nbformat_minor": 5
}
