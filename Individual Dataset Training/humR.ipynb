{
 "cells": [
  {
   "cell_type": "code",
   "execution_count": 15,
   "id": "3ddfa77a",
   "metadata": {},
   "outputs": [],
   "source": [
    "import os\n",
    "import tarfile\n",
    "import urllib.request\n",
    "import pandas as pd"
   ]
  },
  {
   "cell_type": "code",
   "execution_count": 16,
   "id": "6964dca3",
   "metadata": {},
   "outputs": [],
   "source": [
    "load_humr_data = pd.read_csv(\"C:/Users/alt98/Desktop/Machine Learning Project/Employee_Retention/Dataset_humR.csv\")"
   ]
  },
  {
   "cell_type": "code",
   "execution_count": 17,
   "id": "40249c35",
   "metadata": {},
   "outputs": [
    {
     "data": {
      "text/html": [
       "<div>\n",
       "<style scoped>\n",
       "    .dataframe tbody tr th:only-of-type {\n",
       "        vertical-align: middle;\n",
       "    }\n",
       "\n",
       "    .dataframe tbody tr th {\n",
       "        vertical-align: top;\n",
       "    }\n",
       "\n",
       "    .dataframe thead th {\n",
       "        text-align: right;\n",
       "    }\n",
       "</style>\n",
       "<table border=\"1\" class=\"dataframe\">\n",
       "  <thead>\n",
       "    <tr style=\"text-align: right;\">\n",
       "      <th></th>\n",
       "      <th>satisfaction_level</th>\n",
       "      <th>last_evaluation</th>\n",
       "      <th>number_project</th>\n",
       "      <th>average_monthly_hours</th>\n",
       "      <th>time_spent_company</th>\n",
       "      <th>Work_accident</th>\n",
       "      <th>left</th>\n",
       "      <th>promotion_last_5years</th>\n",
       "      <th>sales</th>\n",
       "      <th>salary</th>\n",
       "    </tr>\n",
       "  </thead>\n",
       "  <tbody>\n",
       "    <tr>\n",
       "      <th>0</th>\n",
       "      <td>0.38</td>\n",
       "      <td>0.53</td>\n",
       "      <td>2</td>\n",
       "      <td>157</td>\n",
       "      <td>3</td>\n",
       "      <td>no</td>\n",
       "      <td>yes</td>\n",
       "      <td>no</td>\n",
       "      <td>sales</td>\n",
       "      <td>low</td>\n",
       "    </tr>\n",
       "    <tr>\n",
       "      <th>1</th>\n",
       "      <td>0.80</td>\n",
       "      <td>0.86</td>\n",
       "      <td>5</td>\n",
       "      <td>262</td>\n",
       "      <td>6</td>\n",
       "      <td>no</td>\n",
       "      <td>yes</td>\n",
       "      <td>no</td>\n",
       "      <td>sales</td>\n",
       "      <td>medium</td>\n",
       "    </tr>\n",
       "    <tr>\n",
       "      <th>2</th>\n",
       "      <td>0.11</td>\n",
       "      <td>0.88</td>\n",
       "      <td>7</td>\n",
       "      <td>272</td>\n",
       "      <td>4</td>\n",
       "      <td>no</td>\n",
       "      <td>yes</td>\n",
       "      <td>no</td>\n",
       "      <td>sales</td>\n",
       "      <td>medium</td>\n",
       "    </tr>\n",
       "    <tr>\n",
       "      <th>3</th>\n",
       "      <td>0.72</td>\n",
       "      <td>0.87</td>\n",
       "      <td>5</td>\n",
       "      <td>223</td>\n",
       "      <td>5</td>\n",
       "      <td>no</td>\n",
       "      <td>yes</td>\n",
       "      <td>no</td>\n",
       "      <td>sales</td>\n",
       "      <td>low</td>\n",
       "    </tr>\n",
       "    <tr>\n",
       "      <th>4</th>\n",
       "      <td>0.37</td>\n",
       "      <td>0.52</td>\n",
       "      <td>2</td>\n",
       "      <td>159</td>\n",
       "      <td>3</td>\n",
       "      <td>no</td>\n",
       "      <td>yes</td>\n",
       "      <td>no</td>\n",
       "      <td>sales</td>\n",
       "      <td>low</td>\n",
       "    </tr>\n",
       "  </tbody>\n",
       "</table>\n",
       "</div>"
      ],
      "text/plain": [
       "   satisfaction_level  last_evaluation  number_project  average_monthly_hours  \\\n",
       "0                0.38             0.53               2                    157   \n",
       "1                0.80             0.86               5                    262   \n",
       "2                0.11             0.88               7                    272   \n",
       "3                0.72             0.87               5                    223   \n",
       "4                0.37             0.52               2                    159   \n",
       "\n",
       "   time_spent_company Work_accident left promotion_last_5years  sales  salary  \n",
       "0                   3            no  yes                    no  sales     low  \n",
       "1                   6            no  yes                    no  sales  medium  \n",
       "2                   4            no  yes                    no  sales  medium  \n",
       "3                   5            no  yes                    no  sales     low  \n",
       "4                   3            no  yes                    no  sales     low  "
      ]
     },
     "execution_count": 17,
     "metadata": {},
     "output_type": "execute_result"
    }
   ],
   "source": [
    "humr_data= load_humr_data.copy()\n",
    "#make sure it works\n",
    "humr_data.head()"
   ]
  },
  {
   "cell_type": "code",
   "execution_count": 18,
   "id": "e4959827",
   "metadata": {},
   "outputs": [],
   "source": [
    "#change all attribute names to lower case\n",
    "humr_data.columns = humr_data.columns.str.lower()"
   ]
  },
  {
   "cell_type": "code",
   "execution_count": 19,
   "id": "1c68d804",
   "metadata": {},
   "outputs": [
    {
     "data": {
      "text/plain": [
       "satisfaction_level       0\n",
       "last_evaluation          0\n",
       "number_project           0\n",
       "average_monthly_hours    0\n",
       "time_spent_company       0\n",
       "work_accident            0\n",
       "left                     0\n",
       "promotion_last_5years    0\n",
       "sales                    0\n",
       "salary                   0\n",
       "dtype: int64"
      ]
     },
     "execution_count": 19,
     "metadata": {},
     "output_type": "execute_result"
    }
   ],
   "source": [
    "#let's check to see if there are any null values\n",
    "humr_data.isnull().sum()"
   ]
  },
  {
   "cell_type": "code",
   "execution_count": 20,
   "id": "605fca91",
   "metadata": {},
   "outputs": [
    {
     "data": {
      "text/plain": [
       "satisfaction_level       float64\n",
       "last_evaluation          float64\n",
       "number_project             int64\n",
       "average_monthly_hours      int64\n",
       "time_spent_company         int64\n",
       "work_accident             object\n",
       "left                      object\n",
       "promotion_last_5years     object\n",
       "sales                     object\n",
       "salary                    object\n",
       "dtype: object"
      ]
     },
     "execution_count": 20,
     "metadata": {},
     "output_type": "execute_result"
    }
   ],
   "source": [
    "#let's check the dtypes\n",
    "humr_data.dtypes"
   ]
  },
  {
   "cell_type": "code",
   "execution_count": 21,
   "id": "54ad7a51",
   "metadata": {},
   "outputs": [
    {
     "data": {
      "text/plain": [
       "satisfaction_level        float64\n",
       "last_evaluation           float64\n",
       "number_project              int64\n",
       "average_monthly_hours       int64\n",
       "time_spent_company          int64\n",
       "work_accident            category\n",
       "left                     category\n",
       "promotion_last_5years    category\n",
       "sales                    category\n",
       "salary                   category\n",
       "dtype: object"
      ]
     },
     "execution_count": 21,
     "metadata": {},
     "output_type": "execute_result"
    }
   ],
   "source": [
    "#change objects to categorical data\n",
    "object_cols = humr_data.select_dtypes(include=['object']).columns\n",
    "humr_data[object_cols] = humr_data[object_cols].astype('category')\n",
    "#check the data types again\n",
    "humr_data.dtypes"
   ]
  },
  {
   "cell_type": "code",
   "execution_count": 22,
   "id": "07b9782a",
   "metadata": {},
   "outputs": [
    {
     "name": "stdout",
     "output_type": "stream",
     "text": [
      "Value counts for column 'work_accident':\n",
      "work_accident\n",
      "no     12830\n",
      "yes     2169\n",
      "Name: count, dtype: int64\n",
      "\n",
      "Value counts for column 'left':\n",
      "left\n",
      "no     11428\n",
      "yes     3571\n",
      "Name: count, dtype: int64\n",
      "\n",
      "Value counts for column 'promotion_last_5years':\n",
      "promotion_last_5years\n",
      "no     14680\n",
      "yes      319\n",
      "Name: count, dtype: int64\n",
      "\n",
      "Value counts for column 'sales':\n",
      "sales\n",
      "sales          4140\n",
      "technical      2720\n",
      "support        2229\n",
      "IT             1227\n",
      "product_mng     902\n",
      "marketing       858\n",
      "RandD           787\n",
      "accounting      767\n",
      "hr              739\n",
      "management      630\n",
      "Name: count, dtype: int64\n",
      "\n",
      "Value counts for column 'salary':\n",
      "salary\n",
      "low       7316\n",
      "medium    6446\n",
      "high      1237\n",
      "Name: count, dtype: int64\n",
      "\n"
     ]
    }
   ],
   "source": [
    "categorical_columns = humr_data.select_dtypes(include='category')  # Select category-type columns\n",
    "value_counts = {col: categorical_columns[col].value_counts() for col in categorical_columns.columns}\n",
    "\n",
    "# Print the value counts for each column\n",
    "for col, counts in value_counts.items():\n",
    "    print(f\"Value counts for column '{col}':\")\n",
    "    print(counts)\n",
    "    print()\n",
    "\n"
   ]
  },
  {
   "cell_type": "code",
   "execution_count": 23,
   "id": "761529f9",
   "metadata": {},
   "outputs": [
    {
     "data": {
      "text/html": [
       "<div>\n",
       "<style scoped>\n",
       "    .dataframe tbody tr th:only-of-type {\n",
       "        vertical-align: middle;\n",
       "    }\n",
       "\n",
       "    .dataframe tbody tr th {\n",
       "        vertical-align: top;\n",
       "    }\n",
       "\n",
       "    .dataframe thead th {\n",
       "        text-align: right;\n",
       "    }\n",
       "</style>\n",
       "<table border=\"1\" class=\"dataframe\">\n",
       "  <thead>\n",
       "    <tr style=\"text-align: right;\">\n",
       "      <th></th>\n",
       "      <th>satisfaction_level</th>\n",
       "      <th>last_evaluation</th>\n",
       "      <th>number_project</th>\n",
       "      <th>average_monthly_hours</th>\n",
       "      <th>time_spent_company</th>\n",
       "    </tr>\n",
       "  </thead>\n",
       "  <tbody>\n",
       "    <tr>\n",
       "      <th>count</th>\n",
       "      <td>14999.000000</td>\n",
       "      <td>14999.000000</td>\n",
       "      <td>14999.000000</td>\n",
       "      <td>14999.000000</td>\n",
       "      <td>14999.000000</td>\n",
       "    </tr>\n",
       "    <tr>\n",
       "      <th>mean</th>\n",
       "      <td>0.612834</td>\n",
       "      <td>0.716102</td>\n",
       "      <td>3.803054</td>\n",
       "      <td>201.050337</td>\n",
       "      <td>3.498233</td>\n",
       "    </tr>\n",
       "    <tr>\n",
       "      <th>std</th>\n",
       "      <td>0.248631</td>\n",
       "      <td>0.171169</td>\n",
       "      <td>1.232592</td>\n",
       "      <td>49.943099</td>\n",
       "      <td>1.460136</td>\n",
       "    </tr>\n",
       "    <tr>\n",
       "      <th>min</th>\n",
       "      <td>0.090000</td>\n",
       "      <td>0.360000</td>\n",
       "      <td>2.000000</td>\n",
       "      <td>96.000000</td>\n",
       "      <td>2.000000</td>\n",
       "    </tr>\n",
       "    <tr>\n",
       "      <th>25%</th>\n",
       "      <td>0.440000</td>\n",
       "      <td>0.560000</td>\n",
       "      <td>3.000000</td>\n",
       "      <td>156.000000</td>\n",
       "      <td>3.000000</td>\n",
       "    </tr>\n",
       "    <tr>\n",
       "      <th>50%</th>\n",
       "      <td>0.640000</td>\n",
       "      <td>0.720000</td>\n",
       "      <td>4.000000</td>\n",
       "      <td>200.000000</td>\n",
       "      <td>3.000000</td>\n",
       "    </tr>\n",
       "    <tr>\n",
       "      <th>75%</th>\n",
       "      <td>0.820000</td>\n",
       "      <td>0.870000</td>\n",
       "      <td>5.000000</td>\n",
       "      <td>245.000000</td>\n",
       "      <td>4.000000</td>\n",
       "    </tr>\n",
       "    <tr>\n",
       "      <th>max</th>\n",
       "      <td>1.000000</td>\n",
       "      <td>1.000000</td>\n",
       "      <td>7.000000</td>\n",
       "      <td>310.000000</td>\n",
       "      <td>10.000000</td>\n",
       "    </tr>\n",
       "  </tbody>\n",
       "</table>\n",
       "</div>"
      ],
      "text/plain": [
       "       satisfaction_level  last_evaluation  number_project  \\\n",
       "count        14999.000000     14999.000000    14999.000000   \n",
       "mean             0.612834         0.716102        3.803054   \n",
       "std              0.248631         0.171169        1.232592   \n",
       "min              0.090000         0.360000        2.000000   \n",
       "25%              0.440000         0.560000        3.000000   \n",
       "50%              0.640000         0.720000        4.000000   \n",
       "75%              0.820000         0.870000        5.000000   \n",
       "max              1.000000         1.000000        7.000000   \n",
       "\n",
       "       average_monthly_hours  time_spent_company  \n",
       "count           14999.000000        14999.000000  \n",
       "mean              201.050337            3.498233  \n",
       "std                49.943099            1.460136  \n",
       "min                96.000000            2.000000  \n",
       "25%               156.000000            3.000000  \n",
       "50%               200.000000            3.000000  \n",
       "75%               245.000000            4.000000  \n",
       "max               310.000000           10.000000  "
      ]
     },
     "execution_count": 23,
     "metadata": {},
     "output_type": "execute_result"
    }
   ],
   "source": [
    "#look at numerical columns\n",
    "humr_data.describe()"
   ]
  },
  {
   "cell_type": "code",
   "execution_count": 24,
   "id": "a9134976",
   "metadata": {},
   "outputs": [
    {
     "data": {
      "image/png": "[encoded data removed]",
      "text/plain": [
       "<Figure size 2000x1500 with 6 Axes>"
      ]
     },
     "metadata": {},
     "output_type": "display_data"
    }
   ],
   "source": [
    "#visualize the numeric columns\n",
    "%matplotlib inline\n",
    "import matplotlib.pyplot as plt\n",
    "humr_data.hist(bins=50, figsize=(20, 15))\n",
    "plt.show()"
   ]
  }
 ],
 "metadata": {
  "kernelspec": {
   "display_name": "base",
   "language": "python",
   "name": "python3"
  },
  "language_info": {
   "codemirror_mode": {
    "name": "ipython",
    "version": 3
   },
   "file_extension": ".py",
   "mimetype": "text/x-python",
   "name": "python",
   "nbconvert_exporter": "python",
   "pygments_lexer": "ipython3",
   "version": "3.12.7"
  }
 },
 "nbformat": 4,
 "nbformat_minor": 5
}
