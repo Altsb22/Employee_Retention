{
 "cells": [
  {
   "cell_type": "markdown",
   "id": "85f98608",
   "metadata": {},
   "source": [
    "This will be the training/cleaning page for humR dataset"
   ]
  }
 ],
 "metadata": {
  "kernelspec": {
   "display_name": "base",
   "language": "python",
   "name": "python3"
  },
  "language_info": {
   "name": "python",
   "version": "3.12.7"
  }
 },
 "nbformat": 4,
 "nbformat_minor": 5
}
